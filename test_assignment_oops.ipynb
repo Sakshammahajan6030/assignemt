{
  "nbformat": 4,
  "nbformat_minor": 0,
  "metadata": {
    "colab": {
      "provenance": []
    },
    "kernelspec": {
      "name": "python3",
      "display_name": "Python 3"
    },
    "language_info": {
      "name": "python"
    }
  },
  "cells": [
    {
      "cell_type": "code",
      "execution_count": 21,
      "metadata": {
        "id": "vJQopQ_5gThJ"
      },
      "outputs": [],
      "source": [
        "#What are the five key concepts of Object-Oriented Programming (OOP)\n",
        "#Encapsulation: Bundling data and methods that work on that data within one unit, like a class.\n",
        "\n",
        "#Inheritance: A way to form new classes using classes that have already been defined.\n",
        "\n",
        "#Polymorphism: The ability of different classes to be treated as instances of the same class through a common interface.\n",
        "\n",
        "#Abstraction: Hiding complex implementation details and showing only the necessary features of an object.\n",
        "\n",
        "#Classes and Objects: The fundamental building blocks, where classes are blueprints and objects are instances of those blueprints.\n",
        "\n",
        "#These ideas help make programs more modular, reusable, and easier to troubleshoot. Are you diving into a specific OOP project?"
      ]
    },
    {
      "cell_type": "code",
      "source": [
        "#Write a Python class for a `Car` with attributes for `make`, `model`, and `year`. Include a method to display\n",
        "#the car's information."
      ],
      "metadata": {
        "id": "LUZ3W1SDg_1J"
      },
      "execution_count": 22,
      "outputs": []
    },
    {
      "cell_type": "code",
      "source": [
        "class Car:\n",
        "    def __init__(self, make, model, year):\n",
        "        self.make = make\n",
        "        self.model = model\n",
        "        self.year = year\n",
        "\n",
        "    def display_info(self):\n",
        "        print(f\"{self.year} {self.make} {self.model}\")\n",
        "\n",
        "my_car = Car(\"Toyota\", \"Corolla\", 2023)\n",
        "my_car.display_info()"
      ],
      "metadata": {
        "colab": {
          "base_uri": "https://localhost:8080/"
        },
        "id": "baDj72yfiQE-",
        "outputId": "19bbd6f9-45c5-46a4-fa37-1ecdd70c0a15"
      },
      "execution_count": 23,
      "outputs": [
        {
          "output_type": "stream",
          "name": "stdout",
          "text": [
            "2023 Toyota Corolla\n"
          ]
        }
      ]
    },
    {
      "cell_type": "code",
      "source": [
        "#Explain the difference between instance methods and class methods. Provide an example of each\n",
        "#Instance methods and class methods are two types of methods used in Python classes, and they serve different purposes.\n",
        "\n",
        "#Instance Methods:\n",
        "\n",
        "#Defined using the def keyword inside a class.\n",
        "\n",
        "#The first parameter is always self, which refers to the instance calling the method.\n",
        "\n",
        "#Used to access or modify the instance attributes.\n",
        "\n",
        "#Example:\n",
        "\n",
        "\n",
        "class Car:\n",
        "    def __init__(self, make, model, year):\n",
        "        self.make = make\n",
        "        self.model = model\n",
        "        self.year = year\n",
        "\n",
        "    def display_info(self):\n",
        "        print(f\"{self.year} {self.make} {self.model}\")\n",
        "\n",
        "\n",
        "my_car = Car(\"Toyota\", \"Corolla\", 2023)\n",
        "my_car.display_info()  # Output: 2023 Toyota Corolla\n",
        "\n",
        "#Class Methods:\n",
        "\n",
        "#The first parameter is always cls, which refers to the class itself.\n",
        "\n",
        "#Used to access or modify the class state or create new instances.\n",
        "\n",
        "#Example:\n",
        "\n",
        "class Car: # Remove the redundant Car class definition\n",
        "    make = \"Generic Car\"\n",
        "\n",
        "    def __init__(self, model, year):\n",
        "        self.model = model\n",
        "        self.year = year\n",
        "\n",
        "    @classmethod\n",
        "    def set_make(cls, make):\n",
        "        cls.make = make\n",
        "\n",
        "    def display_info(self):\n",
        "        print(f\"{self.year} {Car.make} {self.model}\")\n",
        "\n",
        "Car.set_make(\"Toyota\")\n",
        "my_car = Car(\"Corolla\", 2023)\n",
        "my_car.display_info()"
      ],
      "metadata": {
        "colab": {
          "base_uri": "https://localhost:8080/"
        },
        "id": "nOwUTqAgjqiu",
        "outputId": "5cc8d53e-553d-48a8-d1fa-4ae8bcf53bf9"
      },
      "execution_count": 24,
      "outputs": [
        {
          "output_type": "stream",
          "name": "stdout",
          "text": [
            "2023 Toyota Corolla\n",
            "2023 Toyota Corolla\n"
          ]
        }
      ]
    },
    {
      "cell_type": "code",
      "source": [
        " #How does Python implement method overloading? Give an example\n",
        " #Python doesn't support traditional method overloading like some other languages do. Instead, it relies on default parameters and variable-length argument lists to achieve similar results.\n",
        "\n",
        "#here's an example of how you can simulate method overloading using default parameters:\n",
        "\n",
        "\n",
        "class Example:\n",
        "    def display(self, a=None, b=None):\n",
        "        if a is not None and b is not None:\n",
        "            print(f\"Two parameters: {a}, {b}\")\n",
        "        elif a is not None:\n",
        "            print(f\"One parameter: {a}\")\n",
        "        else:\n",
        "            print(\"No parameters\")\n",
        "\n",
        "\n",
        "ex = Example()\n",
        "ex.display()\n",
        "ex.display(1)\n",
        "ex.display(1, 2)\n",
        "#This approach allows a single method to handle different numbers of parameters gracefully. Got a specific use case in mind?"
      ],
      "metadata": {
        "colab": {
          "base_uri": "https://localhost:8080/"
        },
        "id": "mzCSUpFpkyE3",
        "outputId": "cd8bad8b-c310-4255-c701-8f556b1379f7"
      },
      "execution_count": 25,
      "outputs": [
        {
          "output_type": "stream",
          "name": "stdout",
          "text": [
            "No parameters\n",
            "One parameter: 1\n",
            "Two parameters: 1, 2\n"
          ]
        }
      ]
    },
    {
      "cell_type": "code",
      "source": [
        "#What are the three types of access modifiers in Python? How are they denoted?\n",
        "#Public: By default, all members are public. You can access them from anywhere.\n",
        "class MyClass:\n",
        "    def __init__(self):\n",
        "        self.public_var = \"I am public\"\n"
      ],
      "metadata": {
        "id": "aifCB_Lgpxod"
      },
      "execution_count": 26,
      "outputs": []
    },
    {
      "cell_type": "code",
      "source": [
        "#Protected: Indicated by a single underscore _ before the variable name. It's more of a convention to suggest that it shouldn't be accessed directly.\n",
        "class MyClass:\n",
        "    def __init__(self):\n",
        "        self._protected_var = \"I am protected\"\n"
      ],
      "metadata": {
        "id": "4zfIUUwsquKF"
      },
      "execution_count": 27,
      "outputs": []
    },
    {
      "cell_type": "code",
      "source": [
        "#Private: Denoted by a double underscore __ before the variable name. It mangles the variable name to prevent accidental access, but it can still be accessed if you try hard enough.\n",
        "class MyClass:\n",
        "    def __init__(self):\n",
        "        self.__private_var = \"I am private\"\n"
      ],
      "metadata": {
        "id": "SlpgImBjrLPb"
      },
      "execution_count": 28,
      "outputs": []
    },
    {
      "cell_type": "code",
      "source": [
        "#Describe the five types of inheritance in Python. Provide a simple example of multiple inheritance\n",
        "#Inheritance in Python comes in five flavors:\n",
        "\n",
        "#Single Inheritance: A class inherits from one superclass.\n",
        "\n",
        "#Multiple Inheritance: A class inherits from multiple superclasses.\n",
        "\n",
        "#Multilevel Inheritance: A class inherits from a superclass, and another class inherits from this derived class.\n",
        "\n",
        "#Hierarchical Inheritance: Multiple classes inherit from a single superclass.\n",
        "\n",
        "#Hybrid Inheritance: A combination of two or more types of inheritance.\n",
        "\n",
        "#Here's an example of multiple inheritance:"
      ],
      "metadata": {
        "id": "5rl47g1fraun"
      },
      "execution_count": 29,
      "outputs": []
    },
    {
      "cell_type": "code",
      "source": [
        "class Animal:\n",
        "    def sound(self):\n",
        "        return \"Some sound\"\n",
        "\n",
        "class Vehicle:\n",
        "    def move(self):\n",
        "        return \"Moves on road\"\n",
        "\n",
        "class Amphibious(Animal, Vehicle):\n",
        "    def special(self):\n",
        "        return \"I can do both!\"\n",
        "\n",
        "amphi = Amphibious()\n",
        "print(amphi.sound())\n",
        "print(amphi.move())\n",
        "print(amphi.special())\n"
      ],
      "metadata": {
        "colab": {
          "base_uri": "https://localhost:8080/"
        },
        "id": "WMhCZf5isYbd",
        "outputId": "813a50e1-00f3-4c7d-abc2-a68ca74e1b45"
      },
      "execution_count": 30,
      "outputs": [
        {
          "output_type": "stream",
          "name": "stdout",
          "text": [
            "Some sound\n",
            "Moves on road\n",
            "I can do both!\n"
          ]
        }
      ]
    },
    {
      "cell_type": "code",
      "source": [
        "#What is the Method Resolution Order (MRO) in Python? How can you retrieve it programmatically\n",
        "#MRO determines the order in which base classes are searched when executing a method. This is crucial in cases of multiple inheritance, ensuring a consistent and predictable method lookup path.\n",
        "\n",
        "#Python follows the C3 linearization algorithm (aka the C3 superclass linearization) for its MRO. You can retrieve the MRO programmatically using the mro() method or the __mro__ attribute.\n",
        "\n",
        "#Example:"
      ],
      "metadata": {
        "id": "V3eneYr-sZnF"
      },
      "execution_count": 31,
      "outputs": []
    },
    {
      "cell_type": "code",
      "source": [
        "class A:\n",
        "    pass\n",
        "\n",
        "class B(A):\n",
        "    pass\n",
        "\n",
        "class C(A):\n",
        "    pass\n",
        "\n",
        "class D(B, C):\n",
        "    pass\n",
        "\n",
        "print(D.mro())\n",
        "print(D.__mro__)"
      ],
      "metadata": {
        "colab": {
          "base_uri": "https://localhost:8080/"
        },
        "id": "oNUv9qNSs4jF",
        "outputId": "d0391858-2b36-4c84-91af-b60b92f9e767"
      },
      "execution_count": 32,
      "outputs": [
        {
          "output_type": "stream",
          "name": "stdout",
          "text": [
            "[<class '__main__.D'>, <class '__main__.B'>, <class '__main__.C'>, <class '__main__.A'>, <class 'object'>]\n",
            "(<class '__main__.D'>, <class '__main__.B'>, <class '__main__.C'>, <class '__main__.A'>, <class 'object'>)\n"
          ]
        }
      ]
    },
    {
      "cell_type": "code",
      "source": [
        "#Create an abstract base class `Shape` with an abstract method `area()`. Then create two subclasses\n",
        "#`Circle` and `Rectangle` that implement the `area()` method"
      ],
      "metadata": {
        "id": "GB5zZQHos8B-"
      },
      "execution_count": 33,
      "outputs": []
    },
    {
      "cell_type": "code",
      "source": [
        "from abc import ABC, abstractmethod\n",
        "import math\n",
        "\n",
        "class Shape(ABC):\n",
        "    @abstractmethod\n",
        "    def area(self):\n",
        "        pass\n",
        "\n",
        "class Circle(Shape):\n",
        "    def __init__(self, radius):\n",
        "        self.radius = radius\n",
        "\n",
        "    def area(self):\n",
        "        return math.pi * self.radius * self.radius\n",
        "\n",
        "class Rectangle(Shape):\n",
        "    def __init__(self, width, height):\n",
        "        self.width = width\n",
        "        self.height = height\n",
        "\n",
        "    def area(self):\n",
        "        return self.width * self.height\n",
        "\n",
        "# Example usage\n",
        "circle = Circle(5)\n",
        "rectangle = Rectangle(4, 6)\n",
        "\n",
        "print(f\"Circle area: {circle.area()}\")\n",
        "print(f\"Rectangle area: {rectangle.area()}\")\n"
      ],
      "metadata": {
        "colab": {
          "base_uri": "https://localhost:8080/"
        },
        "id": "zge3u2DWtY9n",
        "outputId": "4f777218-01a6-4dc2-aa65-f207461e042c"
      },
      "execution_count": 34,
      "outputs": [
        {
          "output_type": "stream",
          "name": "stdout",
          "text": [
            "Circle area: 78.53981633974483\n",
            "Rectangle area: 24\n"
          ]
        }
      ]
    },
    {
      "cell_type": "code",
      "source": [
        "#Demonstrate polymorphism by creating a function that can work with different shape objects to calculate\n",
        "#and print their areas\n",
        "def print_area(shape):\n",
        "    print(f\"The area is: {shape.area()}\")\n",
        "\n",
        "# Example usage\n",
        "circle = Circle(5)\n",
        "rectangle = Rectangle(4, 6)\n",
        "\n",
        "print_area(circle)\n",
        "print_area(rectangle)\n"
      ],
      "metadata": {
        "colab": {
          "base_uri": "https://localhost:8080/"
        },
        "id": "nJUZQnGhtaNi",
        "outputId": "1a9c30ad-4be0-4c05-bbbd-826859164f4f"
      },
      "execution_count": 35,
      "outputs": [
        {
          "output_type": "stream",
          "name": "stdout",
          "text": [
            "The area is: 78.53981633974483\n",
            "The area is: 24\n"
          ]
        }
      ]
    },
    {
      "cell_type": "code",
      "source": [
        "#Implement encapsulation in a `BankAccount` class with private attributes for `balance` and\n",
        "#account_number`. Include methods for deposit, withdrawal, and balance inquiry.\n",
        "class BankAccount:\n",
        "    def __init__(self, account_number, balance=0):\n",
        "        self.__account_number = account_number\n",
        "        self.__balance = balance\n",
        "\n",
        "    def deposit(self, amount):\n",
        "        if amount > 0:\n",
        "            self.__balance += amount\n",
        "            print(f\"Deposited: {amount}\")\n",
        "        else:\n",
        "            print(\"Deposit amount must be positive.\")\n",
        "\n",
        "    def withdraw(self, amount):\n",
        "        if 0 < amount <= self.__balance:\n",
        "            self.__balance -= amount\n",
        "            print(f\"Withdrew: {amount}\")\n",
        "        else:\n",
        "            print(\"Insufficient balance or invalid amount.\")\n",
        "\n",
        "    def get_balance(self):\n",
        "        return self.__balance\n",
        "\n",
        "    def get_account_number(self):\n",
        "        return self.__account_number\n",
        "\n",
        "# Example usage\n",
        "account = BankAccount(\"12345678\", 1000)\n",
        "account.deposit(500)\n",
        "account.withdraw(300)\n",
        "print(f\"Balance: {account.get_balance()}\")\n"
      ],
      "metadata": {
        "colab": {
          "base_uri": "https://localhost:8080/"
        },
        "id": "rl2BxNMvtw-h",
        "outputId": "f9804780-c456-452f-86f1-ccc604ec279b"
      },
      "execution_count": 36,
      "outputs": [
        {
          "output_type": "stream",
          "name": "stdout",
          "text": [
            "Deposited: 500\n",
            "Withdrew: 300\n",
            "Balance: 1200\n"
          ]
        }
      ]
    },
    {
      "cell_type": "code",
      "source": [
        "#Write a class that overrides the `__str__` and `__add__` magic methods. What will these methods allow\n",
        "#you to do?\n",
        "class Vector:\n",
        "    def __init__(self, x, y):\n",
        "        self.x = x\n",
        "        self.y = y\n",
        "\n",
        "    def __str__(self):\n",
        "        return f\"Vector({self.x}, {self.y})\"\n",
        "\n",
        "    def __add__(self, other):\n",
        "        return Vector(self.x + other.x, self.y + other.y)\n",
        "\n",
        "\n",
        "v1 = Vector(2, 3)\n",
        "v2 = Vector(4, 5)\n",
        "\n",
        "print(v1)\n",
        "\n",
        "print(v2)\n",
        "\n",
        "v3 = v1 + v2\n",
        "print(v3)\n",
        "\n"
      ],
      "metadata": {
        "colab": {
          "base_uri": "https://localhost:8080/"
        },
        "id": "fzW0RrLbuEej",
        "outputId": "f97eeb71-0738-4a9b-edd8-8fdaa7d6f2d5"
      },
      "execution_count": 38,
      "outputs": [
        {
          "output_type": "stream",
          "name": "stdout",
          "text": [
            "Vector(2, 3)\n",
            "Vector(4, 5)\n",
            "Vector(6, 8)\n"
          ]
        }
      ]
    },
    {
      "cell_type": "code",
      "source": [
        "#Create a decorator that measures and prints the execution time of a function\n",
        "import time\n",
        "\n",
        "def measure_time(func):\n",
        "    def wrapper(*args, **kwargs):\n",
        "        start_time = time.time()\n",
        "        result = func(*args, **kwargs)\n",
        "        end_time = time.time()\n",
        "        print(f\"Execution time: {end_time - start_time} seconds\")\n",
        "        return result\n",
        "    return wrapper\n",
        "\n",
        "\n",
        "@measure_time\n",
        "def example_function():\n",
        "    time.sleep(2)\n",
        "\n",
        "example_function()\n"
      ],
      "metadata": {
        "colab": {
          "base_uri": "https://localhost:8080/"
        },
        "id": "OrLfXXVyuls_",
        "outputId": "72fb7a08-91dc-435b-c460-4b94503d290f"
      },
      "execution_count": 39,
      "outputs": [
        {
          "output_type": "stream",
          "name": "stdout",
          "text": [
            "Execution time: 2.0020804405212402 seconds\n"
          ]
        }
      ]
    },
    {
      "cell_type": "code",
      "source": [
        "#Explain the concept of the Diamond Problem in multiple inheritance. How does Python resolve it?\n",
        "#The Diamond Problem is a classic dilemma in multiple inheritance, where a class inherits from two classes that both inherit from a single base class.\n",
        "class A:\n",
        "    def hello(self):\n",
        "        print(\"Hello from A\")\n",
        "\n",
        "class B(A):\n",
        "    def hello(self):\n",
        "        print(\"Hello from B\")\n",
        "\n",
        "class C(A):\n",
        "    def hello(self):\n",
        "        print(\"Hello from C\")\n",
        "\n",
        "class D(B, C):\n",
        "    pass\n",
        "\n",
        "d = D()\n",
        "d.hello()\n",
        "print(D.mro())\n"
      ],
      "metadata": {
        "colab": {
          "base_uri": "https://localhost:8080/"
        },
        "id": "pBpZVM4kvWvZ",
        "outputId": "7f432823-5d04-4c7e-f669-d519d5d553d1"
      },
      "execution_count": 40,
      "outputs": [
        {
          "output_type": "stream",
          "name": "stdout",
          "text": [
            "Hello from B\n",
            "[<class '__main__.D'>, <class '__main__.B'>, <class '__main__.C'>, <class '__main__.A'>, <class 'object'>]\n"
          ]
        }
      ]
    },
    {
      "cell_type": "code",
      "source": [
        "#write a class method that keeps track of the number of instances created from a class.\n",
        "class InstanceCounter:\n",
        "    count = 0\n",
        "\n",
        "    def __init__(self):\n",
        "        InstanceCounter.count += 1\n",
        "\n",
        "    @classmethod\n",
        "    def get_instance_count(cls):\n",
        "        return cls.count\n",
        "\n",
        "\n",
        "obj1 = InstanceCounter()\n",
        "obj2 = InstanceCounter()\n",
        "obj3 = InstanceCounter()\n",
        "\n",
        "print(InstanceCounter.get_instance_count())\n"
      ],
      "metadata": {
        "colab": {
          "base_uri": "https://localhost:8080/"
        },
        "id": "6qtu-D5vw_ha",
        "outputId": "ccbb9ea0-926c-48a3-b46f-775b8c1d8d11"
      },
      "execution_count": 41,
      "outputs": [
        {
          "output_type": "stream",
          "name": "stdout",
          "text": [
            "3\n"
          ]
        }
      ]
    },
    {
      "cell_type": "code",
      "source": [
        "#Implement a static method in a class that checks if a given year is a leap year"
      ],
      "metadata": {
        "id": "N52T4JFpxfeY"
      },
      "execution_count": 42,
      "outputs": []
    },
    {
      "cell_type": "code",
      "source": [
        "class YearChecker:\n",
        "    @staticmethod\n",
        "    def is_leap_year(year):\n",
        "        if (year % 4 == 0 and year % 100 != 0) or (year % 400 == 0):\n",
        "            return True\n",
        "        return False\n",
        "\n",
        "print(YearChecker.is_leap_year(2020))\n",
        "print(YearChecker.is_leap_year(2021))"
      ],
      "metadata": {
        "colab": {
          "base_uri": "https://localhost:8080/"
        },
        "id": "qSZ1heM_xTcK",
        "outputId": "68c9a160-dd21-484f-a6ea-70f2edbdb783"
      },
      "execution_count": 43,
      "outputs": [
        {
          "output_type": "stream",
          "name": "stdout",
          "text": [
            "True\n",
            "False\n"
          ]
        }
      ]
    },
    {
      "cell_type": "code",
      "source": [],
      "metadata": {
        "id": "bLxtB4taxr03"
      },
      "execution_count": null,
      "outputs": []
    }
  ]
}